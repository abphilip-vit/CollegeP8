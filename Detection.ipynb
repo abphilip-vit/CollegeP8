{
 "cells": [
  {
   "cell_type": "markdown",
   "metadata": {},
   "source": [
    "### Communication"
   ]
  },
  {
   "cell_type": "code",
   "execution_count": 1,
   "metadata": {},
   "outputs": [],
   "source": [
    "from ipaddress import IPv4Address \n",
    "from pyairmore.request import AirmoreSession  \n",
    "from pyairmore.services.messaging import MessagingService  "
   ]
  },
  {
   "cell_type": "code",
   "execution_count": 2,
   "metadata": {},
   "outputs": [],
   "source": [
    "c = \"192.168.1.4\" \n",
    "ip = IPv4Address(c) \n",
    "s = AirmoreSession(ip)\n",
    "print(\"Running:\", s.is_server_running)\n",
    "wa = s.request_authorization()\n",
    "print(\"Authorization:\",wa)\n",
    "service = MessagingService(s) "
   ]
  },
  {
   "cell_type": "markdown",
   "metadata": {},
   "source": [
    "### Importing Libraries"
   ]
  },
  {
   "cell_type": "code",
   "execution_count": 2,
   "metadata": {},
   "outputs": [],
   "source": [
    "import numpy\n",
    "import numpy as npy \n",
    "import matplotlib.pyplot as plt\n",
    "import os\n",
    "import time\n",
    "import cv2\n",
    "import tensorflow as tf\n",
    "import random"
   ]
  },
  {
   "cell_type": "code",
   "execution_count": 3,
   "metadata": {},
   "outputs": [],
   "source": [
    "import pandas as pd\n",
    "import numpy as np\n",
    "import seaborn as sns\n",
    "import matplotlib.pyplot as plt"
   ]
  },
  {
   "cell_type": "code",
   "execution_count": 4,
   "metadata": {},
   "outputs": [],
   "source": [
    "import PIL\n",
    "from IPython.display import display\n",
    "from PIL import Image\n",
    "import gmplot"
   ]
  },
  {
   "cell_type": "code",
   "execution_count": 5,
   "metadata": {},
   "outputs": [],
   "source": [
    "import firebase_admin\n",
    "import json\n",
    "from firebase_admin import db\n",
    "\n",
    "cred_obj = firebase_admin.credentials.Certificate('./refToke.json')\n",
    "default_app = firebase_admin.initialize_app(cred_obj, {\n",
    "\t'databaseURL':'https://tarp-project-ee72f-default-rtdb.firebaseio.com/'\n",
    "\t})\n",
    "ref = db.reference(\"/coordinate\")"
   ]
  },
  {
   "cell_type": "code",
   "execution_count": 6,
   "metadata": {},
   "outputs": [],
   "source": [
    "import face_recognition"
   ]
  },
  {
   "source": [
    "### ReID"
   ],
   "cell_type": "markdown",
   "metadata": {}
  },
  {
   "cell_type": "code",
   "execution_count": 7,
   "metadata": {},
   "outputs": [],
   "source": [
    "def main2(filepath,j):\n",
    "    y2=2\n",
    "    global ld\n",
    "    global model\n",
    "    suspect = face_recognition.load_image_file(\"test\\suspect.png\")\n",
    "    current = face_recognition.load_image_file(filepath)\n",
    "    img_array = cv2.imread(filepath)\n",
    "    \n",
    "    suspect_encoding = face_recognition.face_encodings(suspect)[0]\n",
    "    if face_recognition.face_encodings(current) != []:\n",
    "        current_encoding = face_recognition.face_encodings(current)[0]\n",
    "\n",
    "        x = face_recognition.compare_faces([suspect_encoding], current_encoding)\n",
    "        if x == [True]:              \n",
    "            cv2.imwrite(\"test/final/f{}.png\".format(j),img_array)\n",
    "            y2=1\n",
    "    return y2    "
   ]
  },
  {
   "cell_type": "markdown",
   "metadata": {},
   "source": [
    "### YOLO Algorithm"
   ]
  },
  {
   "cell_type": "code",
   "execution_count": 8,
   "metadata": {},
   "outputs": [],
   "source": [
    "def main1(n1,j): \n",
    "    y1 = 0\n",
    "    y1b = 0\n",
    "    n = n1 \n",
    "    global ld # Global variable for showing last detected time\n",
    "    \n",
    "    # load the COCO class labels our YOLO model was trained on - *preset\n",
    "    lpath = os.path.sep.join(['yolo-coco', \"coco.names\"])\n",
    "    la = open(lpath).read().strip().split(\"\\n\")\n",
    "    # derive the paths to the YOLO weights and model configuration - *preset\n",
    "    weightsPath = os.path.sep.join(['yolo-coco', \"yolov3.weights\"])\n",
    "    configPath = os.path.sep.join(['yolo-coco', \"yolov3.cfg\"])\n",
    "    # load our YOLO object detector trained on COCO dataset (80 classes) - *preset\n",
    "    net = cv2.dnn.readNetFromDarknet(configPath, weightsPath)\n",
    "    \n",
    "    # load input to get its dimensions\n",
    "    im = cv2.imread(n)\n",
    "    (H, W) = im.shape[:2]\n",
    "\n",
    "    # Colour for the labels\n",
    "    npy.random.seed(42)\n",
    "    colours = npy.random.randint(0, 255, size=(len(la), 3),dtype=\"uint8\")\n",
    "\n",
    "    # Naming layers - *preset\n",
    "    ln = net.getLayerNames()\n",
    "    ln = [ln[i[0] - 1] for i in net.getUnconnectedOutLayers()]\n",
    "\n",
    "    # construct a blob from the input image and then perform a forward - *preset\n",
    "    # pass of the YOLO object detector, giving us our bounding boxes and associated probabilities\n",
    "    blob = cv2.dnn.blobFromImage(im, 1 / 255.0, (416, 416),swapRB=True, crop=False)\n",
    "    net.setInput(blob)\n",
    "    start = time.time()\n",
    "    out = net.forward(ln)\n",
    "    end = time.time()\n",
    "\n",
    "    box1 = []\n",
    "    classID1 = []\n",
    "    confidence1 = []\n",
    "    \n",
    "    for o in out:\n",
    "        for det in o:\n",
    "            s1 = det[5:]\n",
    "            classID = npy.argmax(s1)\n",
    "            confidence = s1[classID]\n",
    "            if confidence > 0.5:\n",
    "                box = det[0:4] * npy.array([W, H, W, H])\n",
    "                (cX, cY, w1, h1) = box.astype(\"int\")\n",
    "                x = int(cX - (w1 / 2))\n",
    "                y = int(cY - (h1 / 2))\n",
    "                box1.append([x, y, int(w1), int(h1)])\n",
    "                confidence1.append(float(confidence))\n",
    "                classID1.append(classID)\n",
    "\n",
    "    # apply non-maxima suppression to suppress weak, overlapping bounding - *preset\n",
    "    id1 = cv2.dnn.NMSBoxes(box1, confidence1, 0.5, 0.3)\n",
    "    \n",
    "    if len(id1) > 0:\n",
    "        for i in id1.flatten():\n",
    "            temp = []\n",
    "            (x, y) = (box1[i][0], box1[i][1])\n",
    "            (w, h) = (box1[i][2], box1[i][3])\n",
    "            cl = [int(c) for c in colours[classID1[i]]]\n",
    "            text = \"{}\".format(la[classID1[i]])\n",
    "            if text == \"person\":\n",
    "                area=w*h\n",
    "                cv2.rectangle(im, (x-2, y-2), (x + w + 2, y + h + 2), cl, 2)\n",
    "                cv2.putText(im, str(i)+\", \"+str(x)+\" \"+(str(y)), (x, y - 5), cv2.FONT_HERSHEY_SIMPLEX,0.5, cl, 2)\n",
    "                cv2.imwrite(\"test/detected/d{}.png\".format(j),im)\n",
    "                if area>10:\n",
    "                    im_refined = cv2.imread(\"test/detected/d{}.png\".format(j))\n",
    "                    crop = im_refined[int(y):int(y+h),int(x):int(x+w)]\n",
    "                    cv2.imwrite(\"test/crops/c{}_{}.png\".format(j,i),crop)\n",
    "                    y1b = main2(\"test/crops/c{}_{}.png\".format(j,i),j)\n",
    "                    if y1b==1:\n",
    "                        y1=1\n",
    "    return y1"
   ]
  },
  {
   "cell_type": "markdown",
   "metadata": {},
   "source": [
    "### Main module"
   ]
  },
  {
   "cell_type": "code",
   "execution_count": 9,
   "metadata": {
    "scrolled": true
   },
   "outputs": [],
   "source": [
    "def call(given):\n",
    "    y0=0\n",
    "    yes=0\n",
    "    vid1 = \"Demo/Geo/demo ({}).mp4\".format(given)\n",
    "    frames = 60\n",
    "    # cv2.VideoCapture(0) - If you want webcam\n",
    "    cap = cv2.VideoCapture(vid1)\n",
    "    i,j,ld = 0,0,0\n",
    "\n",
    "    while True:\n",
    "        r, f = cap.read() \n",
    "        if r: \n",
    "            cv2.imshow('Test Video', f)   \n",
    "            f = cv2.resize(f,(400,300))\n",
    "            if i%frames == 0:\n",
    "                try: \n",
    "                    j = j+1\n",
    "                    s = \"test/overall/ss{}.png\".format(j)\n",
    "                    cv2.imwrite(s,f)\n",
    "                    y0 = main1(s,j)\n",
    "                    if y0==1:\n",
    "                        yes=1\n",
    "                except:\n",
    "                    pass\n",
    "            i=i+1\n",
    "            if cv2.waitKey(1) & 0xFF == ord('q'): \n",
    "            # Press Q to quit\n",
    "                break\n",
    "        else:\n",
    "            break\n",
    "\n",
    "    cap.release()\n",
    "    cv2.destroyAllWindows()\n",
    "    return yes"
   ]
  },
  {
   "cell_type": "markdown",
   "metadata": {},
   "source": [
    "### Plotting"
   ]
  },
  {
   "cell_type": "code",
   "execution_count": 10,
   "metadata": {},
   "outputs": [],
   "source": [
    "def person(points1,p1,p2):\n",
    "    origin = (40.684029, -73.977629)\n",
    "    destination = (40.675965, -73.905801)\n",
    "    coord = pd.read_csv(\"Dataset.csv\")\n",
    "\n",
    "    l1 = coord.drop(['Lane','Point'],axis=1).values.tolist()\n",
    "    lane1 = l1[0:5]\n",
    "    lane2 = l1[5:10]\n",
    "    lane3 = l1[10:15]\n",
    "    lane4 = l1[15:20]\n",
    "    lane5 = l1[20:25]\n",
    "\n",
    "    l2 = []\n",
    "    l2.append(lane1)\n",
    "    l2.append(lane2)\n",
    "    l2.append(lane3)\n",
    "    l2.append(lane4)\n",
    "    l2.append(lane5)\n",
    "   \n",
    "    initial1 = p1\n",
    "    initial2 = p2\n",
    "    if (p1,p2) in [(1,5),(5,5),(5,1),(1,1)]:\n",
    "        l = [1,2,3]\n",
    "        random.shuffle(l)\n",
    "        for i in range(3):\n",
    "            c = call(l[i])\n",
    "            if c==1:\n",
    "                if i==0:\n",
    "                    if p1==1:\n",
    "                        p1+=1\n",
    "                    else:\n",
    "                        p1-=1\n",
    "                if i==1:\n",
    "                    if p1==1:\n",
    "                        p1+=1\n",
    "                        if p2==1:\n",
    "                            p2-=1\n",
    "                        else:\n",
    "                            p2+=1\n",
    "                    else:\n",
    "                        p1-=1\n",
    "                        if p2==1:\n",
    "                            p2-=1\n",
    "                        else:\n",
    "                            p2+=1\n",
    "                if i==2:\n",
    "                    if p2==5:\n",
    "                        p2-=1\n",
    "                    else:\n",
    "                        p2+=1\n",
    "                break\n",
    "    else:\n",
    "        l = [1,2,3,4,5,6,7,8]\n",
    "        random.shuffle(l)\n",
    "        for i in range(8):\n",
    "            c = call(l[i])\n",
    "            if c==1:\n",
    "                if i==0:\n",
    "                    p2=p2+1\n",
    "                if i==1:\n",
    "                    p1+=1\n",
    "                    p2+=1\n",
    "                if i==2:\n",
    "                    p1+=1\n",
    "                if i==3:\n",
    "                    p1+=1\n",
    "                    p2-=1\n",
    "                if i==4:\n",
    "                    p2-=1\n",
    "                if i==5:\n",
    "                    p1-=1\n",
    "                    p2-=1\n",
    "                if i==6:\n",
    "                    p1-=1\n",
    "                if i==7:\n",
    "                    p2+=1\n",
    "                    p1-=1\n",
    "                break\n",
    "    if (p1,p2) in points1:\n",
    "        return person(points1,initial1,initial2)\n",
    "    elif p1 not in range(1,6) or p2 not in range(1,6):\n",
    "        return person(points1, initial1, initial2)\n",
    "    else:\n",
    "        points1.append((p1,p2))\n",
    "        print(points1)\n",
    "        message = \"Suspect found at \"+str(p1)+\",\"+str(p2)\n",
    "        person.len = person.len + 1\n",
    "        \n",
    "        print(str(l2[p2-1][p1-1][0]) + ',' + str(l2[p2-1][p1-1][1]))\n",
    "        fdict[person.len] = str(l2[5-p2][p1-1][0])+ \",\" + str(l2[5-p2][p1-1][1])\n",
    "        \n",
    "        ref.set(fdict)\n",
    "        # service.send_message(\"9449277201\", message) \n",
    "        print(message)\n",
    "        return points1"
   ]
  },
  {
   "cell_type": "markdown",
   "metadata": {},
   "source": [
    "### Display"
   ]
  },
  {
   "cell_type": "code",
   "execution_count": 11,
   "metadata": {},
   "outputs": [
    {
     "output_type": "stream",
     "name": "stdout",
     "text": [
      "[(1, 5), (2, 5)]\n",
      "40.655928,-73.956254\n",
      "Suspect found at 2,5\n"
     ]
    },
    {
     "output_type": "display_data",
     "data": {
      "text/plain": "<Figure size 432x288 with 1 Axes>",
      "image/svg+xml": "<?xml version=\"1.0\" encoding=\"utf-8\" standalone=\"no\"?>\r\n<!DOCTYPE svg PUBLIC \"-//W3C//DTD SVG 1.1//EN\"\r\n  \"http://www.w3.org/Graphics/SVG/1.1/DTD/svg11.dtd\">\r\n<!-- Created with matplotlib (https://matplotlib.org/) -->\r\n<svg height=\"248.518125pt\" version=\"1.1\" viewBox=\"0 0 362.5625 248.518125\" width=\"362.5625pt\" xmlns=\"http://www.w3.org/2000/svg\" xmlns:xlink=\"http://www.w3.org/1999/xlink\">\r\n <defs>\r\n  <style type=\"text/css\">\r\n*{stroke-linecap:butt;stroke-linejoin:round;}\r\n  </style>\r\n </defs>\r\n <g id=\"figure_1\">\r\n  <g id=\"patch_1\">\r\n   <path d=\"M 0 248.518125 \r\nL 362.5625 248.518125 \r\nL 362.5625 0 \r\nL 0 0 \r\nz\r\n\" style=\"fill:none;\"/>\r\n  </g>\r\n  <g id=\"axes_1\">\r\n   <g id=\"patch_2\">\r\n    <path d=\"M 20.5625 224.64 \r\nL 355.3625 224.64 \r\nL 355.3625 7.2 \r\nL 20.5625 7.2 \r\nz\r\n\" style=\"fill:#ffffff;\"/>\r\n   </g>\r\n   <g id=\"PathCollection_1\">\r\n    <defs>\r\n     <path d=\"M 0 3 \r\nC 0.795609 3 1.55874 2.683901 2.12132 2.12132 \r\nC 2.683901 1.55874 3 0.795609 3 0 \r\nC 3 -0.795609 2.683901 -1.55874 2.12132 -2.12132 \r\nC 1.55874 -2.683901 0.795609 -3 0 -3 \r\nC -0.795609 -3 -1.55874 -2.683901 -2.12132 -2.12132 \r\nC -2.683901 -1.55874 -3 -0.795609 -3 0 \r\nC -3 0.795609 -2.683901 1.55874 -2.12132 2.12132 \r\nC -1.55874 2.683901 -0.795609 3 0 3 \r\nz\r\n\" id=\"m4c4964c851\" style=\"stroke:#ff0000;\"/>\r\n    </defs>\r\n    <g clip-path=\"url(#p3a7301aa2a)\">\r\n     <use style=\"fill:#ff0000;stroke:#ff0000;\" x=\"35.780682\" xlink:href=\"#m4c4964c851\" y=\"214.756364\"/>\r\n     <use style=\"fill:#ff0000;stroke:#ff0000;\" x=\"35.780682\" xlink:href=\"#m4c4964c851\" y=\"165.338182\"/>\r\n     <use style=\"fill:#ff0000;stroke:#ff0000;\" x=\"35.780682\" xlink:href=\"#m4c4964c851\" y=\"115.92\"/>\r\n     <use style=\"fill:#ff0000;stroke:#ff0000;\" x=\"35.780682\" xlink:href=\"#m4c4964c851\" y=\"66.501818\"/>\r\n     <use style=\"fill:#ff0000;stroke:#ff0000;\" x=\"111.871591\" xlink:href=\"#m4c4964c851\" y=\"214.756364\"/>\r\n     <use style=\"fill:#ff0000;stroke:#ff0000;\" x=\"111.871591\" xlink:href=\"#m4c4964c851\" y=\"165.338182\"/>\r\n     <use style=\"fill:#ff0000;stroke:#ff0000;\" x=\"111.871591\" xlink:href=\"#m4c4964c851\" y=\"115.92\"/>\r\n     <use style=\"fill:#ff0000;stroke:#ff0000;\" x=\"111.871591\" xlink:href=\"#m4c4964c851\" y=\"66.501818\"/>\r\n     <use style=\"fill:#ff0000;stroke:#ff0000;\" x=\"187.9625\" xlink:href=\"#m4c4964c851\" y=\"214.756364\"/>\r\n     <use style=\"fill:#ff0000;stroke:#ff0000;\" x=\"187.9625\" xlink:href=\"#m4c4964c851\" y=\"165.338182\"/>\r\n     <use style=\"fill:#ff0000;stroke:#ff0000;\" x=\"187.9625\" xlink:href=\"#m4c4964c851\" y=\"115.92\"/>\r\n     <use style=\"fill:#ff0000;stroke:#ff0000;\" x=\"187.9625\" xlink:href=\"#m4c4964c851\" y=\"66.501818\"/>\r\n     <use style=\"fill:#ff0000;stroke:#ff0000;\" x=\"187.9625\" xlink:href=\"#m4c4964c851\" y=\"17.083636\"/>\r\n     <use style=\"fill:#ff0000;stroke:#ff0000;\" x=\"264.053409\" xlink:href=\"#m4c4964c851\" y=\"214.756364\"/>\r\n     <use style=\"fill:#ff0000;stroke:#ff0000;\" x=\"264.053409\" xlink:href=\"#m4c4964c851\" y=\"165.338182\"/>\r\n     <use style=\"fill:#ff0000;stroke:#ff0000;\" x=\"264.053409\" xlink:href=\"#m4c4964c851\" y=\"115.92\"/>\r\n     <use style=\"fill:#ff0000;stroke:#ff0000;\" x=\"264.053409\" xlink:href=\"#m4c4964c851\" y=\"66.501818\"/>\r\n     <use style=\"fill:#ff0000;stroke:#ff0000;\" x=\"264.053409\" xlink:href=\"#m4c4964c851\" y=\"17.083636\"/>\r\n     <use style=\"fill:#ff0000;stroke:#ff0000;\" x=\"340.144318\" xlink:href=\"#m4c4964c851\" y=\"214.756364\"/>\r\n     <use style=\"fill:#ff0000;stroke:#ff0000;\" x=\"340.144318\" xlink:href=\"#m4c4964c851\" y=\"165.338182\"/>\r\n     <use style=\"fill:#ff0000;stroke:#ff0000;\" x=\"340.144318\" xlink:href=\"#m4c4964c851\" y=\"115.92\"/>\r\n     <use style=\"fill:#ff0000;stroke:#ff0000;\" x=\"340.144318\" xlink:href=\"#m4c4964c851\" y=\"66.501818\"/>\r\n     <use style=\"fill:#ff0000;stroke:#ff0000;\" x=\"340.144318\" xlink:href=\"#m4c4964c851\" y=\"17.083636\"/>\r\n    </g>\r\n   </g>\r\n   <g id=\"PathCollection_2\">\r\n    <defs>\r\n     <path d=\"M 0 3 \r\nC 0.795609 3 1.55874 2.683901 2.12132 2.12132 \r\nC 2.683901 1.55874 3 0.795609 3 0 \r\nC 3 -0.795609 2.683901 -1.55874 2.12132 -2.12132 \r\nC 1.55874 -2.683901 0.795609 -3 0 -3 \r\nC -0.795609 -3 -1.55874 -2.683901 -2.12132 -2.12132 \r\nC -2.683901 -1.55874 -3 -0.795609 -3 0 \r\nC -3 0.795609 -2.683901 1.55874 -2.12132 2.12132 \r\nC -1.55874 2.683901 -0.795609 3 0 3 \r\nz\r\n\" id=\"m56c069629d\" style=\"stroke:#008000;\"/>\r\n    </defs>\r\n    <g clip-path=\"url(#p3a7301aa2a)\">\r\n     <use style=\"fill:#008000;stroke:#008000;\" x=\"35.780682\" xlink:href=\"#m56c069629d\" y=\"17.083636\"/>\r\n     <use style=\"fill:#008000;stroke:#008000;\" x=\"111.871591\" xlink:href=\"#m56c069629d\" y=\"17.083636\"/>\r\n    </g>\r\n   </g>\r\n   <g id=\"matplotlib.axis_1\">\r\n    <g id=\"xtick_1\">\r\n     <g id=\"line2d_1\">\r\n      <path clip-path=\"url(#p3a7301aa2a)\" d=\"M 35.780682 224.64 \r\nL 35.780682 7.2 \r\n\" style=\"fill:none;stroke:#b0b0b0;stroke-linecap:square;stroke-width:0.8;\"/>\r\n     </g>\r\n     <g id=\"line2d_2\">\r\n      <defs>\r\n       <path d=\"M 0 0 \r\nL 0 3.5 \r\n\" id=\"m6a33474a7e\" style=\"stroke:#000000;stroke-width:0.8;\"/>\r\n      </defs>\r\n      <g>\r\n       <use style=\"stroke:#000000;stroke-width:0.8;\" x=\"35.780682\" xlink:href=\"#m6a33474a7e\" y=\"224.64\"/>\r\n      </g>\r\n     </g>\r\n     <g id=\"text_1\">\r\n      <!-- 1 -->\r\n      <defs>\r\n       <path d=\"M 12.40625 8.296875 \r\nL 28.515625 8.296875 \r\nL 28.515625 63.921875 \r\nL 10.984375 60.40625 \r\nL 10.984375 69.390625 \r\nL 28.421875 72.90625 \r\nL 38.28125 72.90625 \r\nL 38.28125 8.296875 \r\nL 54.390625 8.296875 \r\nL 54.390625 0 \r\nL 12.40625 0 \r\nz\r\n\" id=\"DejaVuSans-49\"/>\r\n      </defs>\r\n      <g transform=\"translate(32.599432 239.238437)scale(0.1 -0.1)\">\r\n       <use xlink:href=\"#DejaVuSans-49\"/>\r\n      </g>\r\n     </g>\r\n    </g>\r\n    <g id=\"xtick_2\">\r\n     <g id=\"line2d_3\">\r\n      <path clip-path=\"url(#p3a7301aa2a)\" d=\"M 111.871591 224.64 \r\nL 111.871591 7.2 \r\n\" style=\"fill:none;stroke:#b0b0b0;stroke-linecap:square;stroke-width:0.8;\"/>\r\n     </g>\r\n     <g id=\"line2d_4\">\r\n      <g>\r\n       <use style=\"stroke:#000000;stroke-width:0.8;\" x=\"111.871591\" xlink:href=\"#m6a33474a7e\" y=\"224.64\"/>\r\n      </g>\r\n     </g>\r\n     <g id=\"text_2\">\r\n      <!-- 2 -->\r\n      <defs>\r\n       <path d=\"M 19.1875 8.296875 \r\nL 53.609375 8.296875 \r\nL 53.609375 0 \r\nL 7.328125 0 \r\nL 7.328125 8.296875 \r\nQ 12.9375 14.109375 22.625 23.890625 \r\nQ 32.328125 33.6875 34.8125 36.53125 \r\nQ 39.546875 41.84375 41.421875 45.53125 \r\nQ 43.3125 49.21875 43.3125 52.78125 \r\nQ 43.3125 58.59375 39.234375 62.25 \r\nQ 35.15625 65.921875 28.609375 65.921875 \r\nQ 23.96875 65.921875 18.8125 64.3125 \r\nQ 13.671875 62.703125 7.8125 59.421875 \r\nL 7.8125 69.390625 \r\nQ 13.765625 71.78125 18.9375 73 \r\nQ 24.125 74.21875 28.421875 74.21875 \r\nQ 39.75 74.21875 46.484375 68.546875 \r\nQ 53.21875 62.890625 53.21875 53.421875 \r\nQ 53.21875 48.921875 51.53125 44.890625 \r\nQ 49.859375 40.875 45.40625 35.40625 \r\nQ 44.1875 33.984375 37.640625 27.21875 \r\nQ 31.109375 20.453125 19.1875 8.296875 \r\nz\r\n\" id=\"DejaVuSans-50\"/>\r\n      </defs>\r\n      <g transform=\"translate(108.690341 239.238437)scale(0.1 -0.1)\">\r\n       <use xlink:href=\"#DejaVuSans-50\"/>\r\n      </g>\r\n     </g>\r\n    </g>\r\n    <g id=\"xtick_3\">\r\n     <g id=\"line2d_5\">\r\n      <path clip-path=\"url(#p3a7301aa2a)\" d=\"M 187.9625 224.64 \r\nL 187.9625 7.2 \r\n\" style=\"fill:none;stroke:#b0b0b0;stroke-linecap:square;stroke-width:0.8;\"/>\r\n     </g>\r\n     <g id=\"line2d_6\">\r\n      <g>\r\n       <use style=\"stroke:#000000;stroke-width:0.8;\" x=\"187.9625\" xlink:href=\"#m6a33474a7e\" y=\"224.64\"/>\r\n      </g>\r\n     </g>\r\n     <g id=\"text_3\">\r\n      <!-- 3 -->\r\n      <defs>\r\n       <path d=\"M 40.578125 39.3125 \r\nQ 47.65625 37.796875 51.625 33 \r\nQ 55.609375 28.21875 55.609375 21.1875 \r\nQ 55.609375 10.40625 48.1875 4.484375 \r\nQ 40.765625 -1.421875 27.09375 -1.421875 \r\nQ 22.515625 -1.421875 17.65625 -0.515625 \r\nQ 12.796875 0.390625 7.625 2.203125 \r\nL 7.625 11.71875 \r\nQ 11.71875 9.328125 16.59375 8.109375 \r\nQ 21.484375 6.890625 26.8125 6.890625 \r\nQ 36.078125 6.890625 40.9375 10.546875 \r\nQ 45.796875 14.203125 45.796875 21.1875 \r\nQ 45.796875 27.640625 41.28125 31.265625 \r\nQ 36.765625 34.90625 28.71875 34.90625 \r\nL 20.21875 34.90625 \r\nL 20.21875 43.015625 \r\nL 29.109375 43.015625 \r\nQ 36.375 43.015625 40.234375 45.921875 \r\nQ 44.09375 48.828125 44.09375 54.296875 \r\nQ 44.09375 59.90625 40.109375 62.90625 \r\nQ 36.140625 65.921875 28.71875 65.921875 \r\nQ 24.65625 65.921875 20.015625 65.03125 \r\nQ 15.375 64.15625 9.8125 62.3125 \r\nL 9.8125 71.09375 \r\nQ 15.4375 72.65625 20.34375 73.4375 \r\nQ 25.25 74.21875 29.59375 74.21875 \r\nQ 40.828125 74.21875 47.359375 69.109375 \r\nQ 53.90625 64.015625 53.90625 55.328125 \r\nQ 53.90625 49.265625 50.4375 45.09375 \r\nQ 46.96875 40.921875 40.578125 39.3125 \r\nz\r\n\" id=\"DejaVuSans-51\"/>\r\n      </defs>\r\n      <g transform=\"translate(184.78125 239.238437)scale(0.1 -0.1)\">\r\n       <use xlink:href=\"#DejaVuSans-51\"/>\r\n      </g>\r\n     </g>\r\n    </g>\r\n    <g id=\"xtick_4\">\r\n     <g id=\"line2d_7\">\r\n      <path clip-path=\"url(#p3a7301aa2a)\" d=\"M 264.053409 224.64 \r\nL 264.053409 7.2 \r\n\" style=\"fill:none;stroke:#b0b0b0;stroke-linecap:square;stroke-width:0.8;\"/>\r\n     </g>\r\n     <g id=\"line2d_8\">\r\n      <g>\r\n       <use style=\"stroke:#000000;stroke-width:0.8;\" x=\"264.053409\" xlink:href=\"#m6a33474a7e\" y=\"224.64\"/>\r\n      </g>\r\n     </g>\r\n     <g id=\"text_4\">\r\n      <!-- 4 -->\r\n      <defs>\r\n       <path d=\"M 37.796875 64.3125 \r\nL 12.890625 25.390625 \r\nL 37.796875 25.390625 \r\nz\r\nM 35.203125 72.90625 \r\nL 47.609375 72.90625 \r\nL 47.609375 25.390625 \r\nL 58.015625 25.390625 \r\nL 58.015625 17.1875 \r\nL 47.609375 17.1875 \r\nL 47.609375 0 \r\nL 37.796875 0 \r\nL 37.796875 17.1875 \r\nL 4.890625 17.1875 \r\nL 4.890625 26.703125 \r\nz\r\n\" id=\"DejaVuSans-52\"/>\r\n      </defs>\r\n      <g transform=\"translate(260.872159 239.238437)scale(0.1 -0.1)\">\r\n       <use xlink:href=\"#DejaVuSans-52\"/>\r\n      </g>\r\n     </g>\r\n    </g>\r\n    <g id=\"xtick_5\">\r\n     <g id=\"line2d_9\">\r\n      <path clip-path=\"url(#p3a7301aa2a)\" d=\"M 340.144318 224.64 \r\nL 340.144318 7.2 \r\n\" style=\"fill:none;stroke:#b0b0b0;stroke-linecap:square;stroke-width:0.8;\"/>\r\n     </g>\r\n     <g id=\"line2d_10\">\r\n      <g>\r\n       <use style=\"stroke:#000000;stroke-width:0.8;\" x=\"340.144318\" xlink:href=\"#m6a33474a7e\" y=\"224.64\"/>\r\n      </g>\r\n     </g>\r\n     <g id=\"text_5\">\r\n      <!-- 5 -->\r\n      <defs>\r\n       <path d=\"M 10.796875 72.90625 \r\nL 49.515625 72.90625 \r\nL 49.515625 64.59375 \r\nL 19.828125 64.59375 \r\nL 19.828125 46.734375 \r\nQ 21.96875 47.46875 24.109375 47.828125 \r\nQ 26.265625 48.1875 28.421875 48.1875 \r\nQ 40.625 48.1875 47.75 41.5 \r\nQ 54.890625 34.8125 54.890625 23.390625 \r\nQ 54.890625 11.625 47.5625 5.09375 \r\nQ 40.234375 -1.421875 26.90625 -1.421875 \r\nQ 22.3125 -1.421875 17.546875 -0.640625 \r\nQ 12.796875 0.140625 7.71875 1.703125 \r\nL 7.71875 11.625 \r\nQ 12.109375 9.234375 16.796875 8.0625 \r\nQ 21.484375 6.890625 26.703125 6.890625 \r\nQ 35.15625 6.890625 40.078125 11.328125 \r\nQ 45.015625 15.765625 45.015625 23.390625 \r\nQ 45.015625 31 40.078125 35.4375 \r\nQ 35.15625 39.890625 26.703125 39.890625 \r\nQ 22.75 39.890625 18.8125 39.015625 \r\nQ 14.890625 38.140625 10.796875 36.28125 \r\nz\r\n\" id=\"DejaVuSans-53\"/>\r\n      </defs>\r\n      <g transform=\"translate(336.963068 239.238437)scale(0.1 -0.1)\">\r\n       <use xlink:href=\"#DejaVuSans-53\"/>\r\n      </g>\r\n     </g>\r\n    </g>\r\n   </g>\r\n   <g id=\"matplotlib.axis_2\">\r\n    <g id=\"ytick_1\">\r\n     <g id=\"line2d_11\">\r\n      <path clip-path=\"url(#p3a7301aa2a)\" d=\"M 20.5625 214.756364 \r\nL 355.3625 214.756364 \r\n\" style=\"fill:none;stroke:#b0b0b0;stroke-linecap:square;stroke-width:0.8;\"/>\r\n     </g>\r\n     <g id=\"line2d_12\">\r\n      <defs>\r\n       <path d=\"M 0 0 \r\nL -3.5 0 \r\n\" id=\"mc4a6f7221c\" style=\"stroke:#000000;stroke-width:0.8;\"/>\r\n      </defs>\r\n      <g>\r\n       <use style=\"stroke:#000000;stroke-width:0.8;\" x=\"20.5625\" xlink:href=\"#mc4a6f7221c\" y=\"214.756364\"/>\r\n      </g>\r\n     </g>\r\n     <g id=\"text_6\">\r\n      <!-- 1 -->\r\n      <g transform=\"translate(7.2 218.555582)scale(0.1 -0.1)\">\r\n       <use xlink:href=\"#DejaVuSans-49\"/>\r\n      </g>\r\n     </g>\r\n    </g>\r\n    <g id=\"ytick_2\">\r\n     <g id=\"line2d_13\">\r\n      <path clip-path=\"url(#p3a7301aa2a)\" d=\"M 20.5625 165.338182 \r\nL 355.3625 165.338182 \r\n\" style=\"fill:none;stroke:#b0b0b0;stroke-linecap:square;stroke-width:0.8;\"/>\r\n     </g>\r\n     <g id=\"line2d_14\">\r\n      <g>\r\n       <use style=\"stroke:#000000;stroke-width:0.8;\" x=\"20.5625\" xlink:href=\"#mc4a6f7221c\" y=\"165.338182\"/>\r\n      </g>\r\n     </g>\r\n     <g id=\"text_7\">\r\n      <!-- 2 -->\r\n      <g transform=\"translate(7.2 169.137401)scale(0.1 -0.1)\">\r\n       <use xlink:href=\"#DejaVuSans-50\"/>\r\n      </g>\r\n     </g>\r\n    </g>\r\n    <g id=\"ytick_3\">\r\n     <g id=\"line2d_15\">\r\n      <path clip-path=\"url(#p3a7301aa2a)\" d=\"M 20.5625 115.92 \r\nL 355.3625 115.92 \r\n\" style=\"fill:none;stroke:#b0b0b0;stroke-linecap:square;stroke-width:0.8;\"/>\r\n     </g>\r\n     <g id=\"line2d_16\">\r\n      <g>\r\n       <use style=\"stroke:#000000;stroke-width:0.8;\" x=\"20.5625\" xlink:href=\"#mc4a6f7221c\" y=\"115.92\"/>\r\n      </g>\r\n     </g>\r\n     <g id=\"text_8\">\r\n      <!-- 3 -->\r\n      <g transform=\"translate(7.2 119.719219)scale(0.1 -0.1)\">\r\n       <use xlink:href=\"#DejaVuSans-51\"/>\r\n      </g>\r\n     </g>\r\n    </g>\r\n    <g id=\"ytick_4\">\r\n     <g id=\"line2d_17\">\r\n      <path clip-path=\"url(#p3a7301aa2a)\" d=\"M 20.5625 66.501818 \r\nL 355.3625 66.501818 \r\n\" style=\"fill:none;stroke:#b0b0b0;stroke-linecap:square;stroke-width:0.8;\"/>\r\n     </g>\r\n     <g id=\"line2d_18\">\r\n      <g>\r\n       <use style=\"stroke:#000000;stroke-width:0.8;\" x=\"20.5625\" xlink:href=\"#mc4a6f7221c\" y=\"66.501818\"/>\r\n      </g>\r\n     </g>\r\n     <g id=\"text_9\">\r\n      <!-- 4 -->\r\n      <g transform=\"translate(7.2 70.301037)scale(0.1 -0.1)\">\r\n       <use xlink:href=\"#DejaVuSans-52\"/>\r\n      </g>\r\n     </g>\r\n    </g>\r\n    <g id=\"ytick_5\">\r\n     <g id=\"line2d_19\">\r\n      <path clip-path=\"url(#p3a7301aa2a)\" d=\"M 20.5625 17.083636 \r\nL 355.3625 17.083636 \r\n\" style=\"fill:none;stroke:#b0b0b0;stroke-linecap:square;stroke-width:0.8;\"/>\r\n     </g>\r\n     <g id=\"line2d_20\">\r\n      <g>\r\n       <use style=\"stroke:#000000;stroke-width:0.8;\" x=\"20.5625\" xlink:href=\"#mc4a6f7221c\" y=\"17.083636\"/>\r\n      </g>\r\n     </g>\r\n     <g id=\"text_10\">\r\n      <!-- 5 -->\r\n      <g transform=\"translate(7.2 20.882855)scale(0.1 -0.1)\">\r\n       <use xlink:href=\"#DejaVuSans-53\"/>\r\n      </g>\r\n     </g>\r\n    </g>\r\n   </g>\r\n   <g id=\"line2d_21\">\r\n    <path clip-path=\"url(#p3a7301aa2a)\" d=\"M 35.780682 17.083636 \r\nL 111.871591 17.083636 \r\n\" style=\"fill:none;stroke:#008000;stroke-dasharray:5.55,2.4;stroke-dashoffset:0;stroke-width:1.5;\"/>\r\n   </g>\r\n   <g id=\"patch_3\">\r\n    <path d=\"M 20.5625 224.64 \r\nL 20.5625 7.2 \r\n\" style=\"fill:none;stroke:#000000;stroke-linecap:square;stroke-linejoin:miter;stroke-width:0.8;\"/>\r\n   </g>\r\n   <g id=\"patch_4\">\r\n    <path d=\"M 355.3625 224.64 \r\nL 355.3625 7.2 \r\n\" style=\"fill:none;stroke:#000000;stroke-linecap:square;stroke-linejoin:miter;stroke-width:0.8;\"/>\r\n   </g>\r\n   <g id=\"patch_5\">\r\n    <path d=\"M 20.5625 224.64 \r\nL 355.3625 224.64 \r\n\" style=\"fill:none;stroke:#000000;stroke-linecap:square;stroke-linejoin:miter;stroke-width:0.8;\"/>\r\n   </g>\r\n   <g id=\"patch_6\">\r\n    <path d=\"M 20.5625 7.2 \r\nL 355.3625 7.2 \r\n\" style=\"fill:none;stroke:#000000;stroke-linecap:square;stroke-linejoin:miter;stroke-width:0.8;\"/>\r\n   </g>\r\n  </g>\r\n </g>\r\n <defs>\r\n  <clipPath id=\"p3a7301aa2a\">\r\n   <rect height=\"217.44\" width=\"334.8\" x=\"20.5625\" y=\"7.2\"/>\r\n  </clipPath>\r\n </defs>\r\n</svg>\r\n",
      "image/png": "[encoded data removed]"
     },
     "metadata": {
      "needs_background": "light"
     }
    }
   ],
   "source": [
    "points = []\n",
    "points1 = [(1,5)]\n",
    "\n",
    "fdict = {}\n",
    "person.len = 0\n",
    "fdict[0] = \"40.684029\" + \",\" + \"-73.977629\"\n",
    "\n",
    "for i in range(5):\n",
    "    points1 = person(points1,points1[-1][0],points1[-1][1])\n",
    "    for k in range(1,6):\n",
    "            for l in range(1,6):\n",
    "                if (k,l) not in points1:\n",
    "                    points.append((k,l))\n",
    "    x = list(map(lambda x: x[0], points))\n",
    "    y = list(map(lambda x: x[1], points))\n",
    "\n",
    "    x1 = list(map(lambda x1: x1[0], points1))\n",
    "    y1 = list(map(lambda x1: x1[1], points1))\n",
    "\n",
    "    plt.xticks(npy.arange(1, 6, 1))\n",
    "    plt.yticks(npy.arange(1, 6, 1))\n",
    "    plt.scatter(x,y,c=\"r\")\n",
    "    plt.scatter(x1,y1,c=\"g\")\n",
    "    plt.grid(True)\n",
    "    plt.plot(x1,y1,'g--')\n",
    "    plt.show()"
   ]
  }
 ],
 "metadata": {
  "kernelspec": {
   "name": "python38364bit570ee3c6a9ce451c90a4fee19734ed2d",
   "display_name": "Python 3.8.3 64-bit ('base': conda)"
  },
  "language_info": {
   "codemirror_mode": {
    "name": "ipython",
    "version": 3
   },
   "file_extension": ".py",
   "mimetype": "text/x-python",
   "name": "python",
   "nbconvert_exporter": "python",
   "pygments_lexer": "ipython3",
   "version": "3.8.3"
  },
  "metadata": {
   "interpreter": {
    "hash": "5a2c2b1e8e21bd441da1d17902ec1befce5a77884cfd8dc3337a42ec4181cc68"
   }
  }
 },
 "nbformat": 4,
 "nbformat_minor": 4
}