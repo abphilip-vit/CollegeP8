{
 "cells": [
  {
   "cell_type": "markdown",
   "metadata": {},
   "source": [
    "### Communication"
   ]
  },
  {
   "cell_type": "code",
   "execution_count": 1,
   "metadata": {},
   "outputs": [],
   "source": [
    "# from ipaddress import IPv4Address \n",
    "# from pyairmore.request import AirmoreSession  \n",
    "# from pyairmore.services.messaging import MessagingService  \n",
    "# c = \"192.168.1.4\" \n",
    "# ip = IPv4Address(c) \n",
    "# s = AirmoreSession(ip)\n",
    "# print(\"Running:\", s.is_server_running)\n",
    "# wa = s.request_authorization()\n",
    "# print(\"Authorization:\",wa)\n",
    "# service = MessagingService(s) "
   ]
  },
  {
   "cell_type": "markdown",
   "metadata": {},
   "source": [
    "### Importing Libraries"
   ]
  },
  {
   "cell_type": "code",
   "execution_count": 2,
   "metadata": {},
   "outputs": [
    {
     "name": "stderr",
     "output_type": "stream",
     "text": [
      "C:\\Users\\SAN\\anaconda3\\envs\\python-cvcourse\\lib\\site-packages\\tensorflow\\python\\framework\\dtypes.py:523: FutureWarning: Passing (type, 1) or '1type' as a synonym of type is deprecated; in a future version of numpy, it will be understood as (type, (1,)) / '(1,)type'.\n",
      "  _np_qint8 = np.dtype([(\"qint8\", np.int8, 1)])\n",
      "C:\\Users\\SAN\\anaconda3\\envs\\python-cvcourse\\lib\\site-packages\\tensorflow\\python\\framework\\dtypes.py:524: FutureWarning: Passing (type, 1) or '1type' as a synonym of type is deprecated; in a future version of numpy, it will be understood as (type, (1,)) / '(1,)type'.\n",
      "  _np_quint8 = np.dtype([(\"quint8\", np.uint8, 1)])\n",
      "C:\\Users\\SAN\\anaconda3\\envs\\python-cvcourse\\lib\\site-packages\\tensorflow\\python\\framework\\dtypes.py:525: FutureWarning: Passing (type, 1) or '1type' as a synonym of type is deprecated; in a future version of numpy, it will be understood as (type, (1,)) / '(1,)type'.\n",
      "  _np_qint16 = np.dtype([(\"qint16\", np.int16, 1)])\n",
      "C:\\Users\\SAN\\anaconda3\\envs\\python-cvcourse\\lib\\site-packages\\tensorflow\\python\\framework\\dtypes.py:526: FutureWarning: Passing (type, 1) or '1type' as a synonym of type is deprecated; in a future version of numpy, it will be understood as (type, (1,)) / '(1,)type'.\n",
      "  _np_quint16 = np.dtype([(\"quint16\", np.uint16, 1)])\n",
      "C:\\Users\\SAN\\anaconda3\\envs\\python-cvcourse\\lib\\site-packages\\tensorflow\\python\\framework\\dtypes.py:527: FutureWarning: Passing (type, 1) or '1type' as a synonym of type is deprecated; in a future version of numpy, it will be understood as (type, (1,)) / '(1,)type'.\n",
      "  _np_qint32 = np.dtype([(\"qint32\", np.int32, 1)])\n",
      "C:\\Users\\SAN\\anaconda3\\envs\\python-cvcourse\\lib\\site-packages\\tensorflow\\python\\framework\\dtypes.py:532: FutureWarning: Passing (type, 1) or '1type' as a synonym of type is deprecated; in a future version of numpy, it will be understood as (type, (1,)) / '(1,)type'.\n",
      "  np_resource = np.dtype([(\"resource\", np.ubyte, 1)])\n"
     ]
    }
   ],
   "source": [
    "import numpy\n",
    "import numpy as npy \n",
    "import pandas as pd\n",
    "import matplotlib.pyplot as plt\n",
    "import os\n",
    "import time\n",
    "import firebase_admin\n",
    "import cv2\n",
    "import tensorflow as tf\n",
    "import random\n",
    "import json\n",
    "\n",
    "\n",
    "import PIL\n",
    "from IPython.display import display\n",
    "from PIL import Image\n",
    "from firebase_admin import db\n",
    "\n",
    "\n",
    "cred_obj = firebase_admin.credentials.Certificate('./refToke.json')\n",
    "default_app = firebase_admin.initialize_app(cred_obj, {\n",
    "\t'databaseURL':'https://tarp-project-ee72f-default-rtdb.firebaseio.com/'\n",
    "\t})\n",
    "ref = db.reference(\"/coordinate\")"
   ]
  },
  {
   "cell_type": "markdown",
   "metadata": {},
   "source": [
    "### YOLO"
   ]
  },
  {
   "cell_type": "code",
   "execution_count": 3,
   "metadata": {},
   "outputs": [],
   "source": [
    "def main1(n1,j): \n",
    "    y1 = 0\n",
    "    n = n1 \n",
    "    global ld # Global variable for showing last detected time\n",
    "    \n",
    "    # load the COCO class labels our YOLO model was trained on - *preset\n",
    "    lpath = os.path.sep.join(['yolo-coco', \"coco.names\"])\n",
    "    la = open(lpath).read().strip().split(\"\\n\")\n",
    "    # derive the paths to the YOLO weights and model configuration - *preset\n",
    "    weightsPath = os.path.sep.join(['yolo-coco', \"yolov3.weights\"])\n",
    "    configPath = os.path.sep.join(['yolo-coco', \"yolov3.cfg\"])\n",
    "    # load our YOLO object detector trained on COCO dataset (80 classes) - *preset\n",
    "    net = cv2.dnn.readNetFromDarknet(configPath, weightsPath)\n",
    "    \n",
    "    # load input to get its dimensions\n",
    "    im = cv2.imread(n)\n",
    "    (H, W) = im.shape[:2]\n",
    "\n",
    "    # Colour for the labels\n",
    "    npy.random.seed(42)\n",
    "    colours = npy.random.randint(0, 255, size=(len(la), 3),dtype=\"uint8\")\n",
    "\n",
    "    # Naming layers - *preset\n",
    "    ln = net.getLayerNames()\n",
    "    ln = [ln[i[0] - 1] for i in net.getUnconnectedOutLayers()]\n",
    "\n",
    "    # construct a blob from the input image and then perform a forward - *preset\n",
    "    # pass of the YOLO object detector, giving us our bounding boxes and associated probabilities\n",
    "    blob = cv2.dnn.blobFromImage(im, 1 / 255.0, (416, 416),swapRB=True, crop=False)\n",
    "    net.setInput(blob)\n",
    "    start = time.time()\n",
    "    out = net.forward(ln)\n",
    "    end = time.time()\n",
    "\n",
    "    box1 = []\n",
    "    classID1 = []\n",
    "    confidence1 = []\n",
    "    \n",
    "    for o in out:\n",
    "        for det in o:\n",
    "            s1 = det[5:]\n",
    "            classID = npy.argmax(s1)\n",
    "            confidence = s1[classID]\n",
    "            if confidence > 0.5:\n",
    "                box = det[0:4] * npy.array([W, H, W, H])\n",
    "                (cX, cY, w1, h1) = box.astype(\"int\")\n",
    "                x = int(cX - (w1 / 2))\n",
    "                y = int(cY - (h1 / 2))\n",
    "                box1.append([x, y, int(w1), int(h1)])\n",
    "                confidence1.append(float(confidence))\n",
    "                classID1.append(classID)\n",
    "\n",
    "    # apply non-maxima suppression to suppress weak, overlapping bounding - *preset\n",
    "    id1 = cv2.dnn.NMSBoxes(box1, confidence1, 0.5, 0.3)\n",
    "    \n",
    "    if len(id1) > 0:\n",
    "        for i in id1.flatten():\n",
    "            temp = []\n",
    "            (x, y) = (box1[i][0], box1[i][1])\n",
    "            (w, h) = (box1[i][2], box1[i][3])\n",
    "            cl = [int(c) for c in colours[classID1[i]]]\n",
    "            text = \"{}\".format(la[classID1[i]])\n",
    "            if text == \"person\":\n",
    "                area=w*h\n",
    "                cv2.rectangle(im, (x-2, y-2), (x + w + 2, y + h + 2), cl, 2)\n",
    "                cv2.putText(im, str(i)+\", \"+str(x)+\" \"+(str(y)), (x, y - 5), cv2.FONT_HERSHEY_SIMPLEX,0.5, cl, 2)\n",
    "                cv2.imwrite(\"test/detected/d{}.jpg\".format(j),im)\n",
    "                if area>100:\n",
    "                    im_refined = cv2.imread(\"test/detected/d{}.jpg\".format(j))\n",
    "                    y1=1\n",
    "    return y1"
   ]
  },
  {
   "cell_type": "markdown",
   "metadata": {},
   "source": [
    "### Main module"
   ]
  },
  {
   "cell_type": "code",
   "execution_count": 4,
   "metadata": {
    "scrolled": true
   },
   "outputs": [],
   "source": [
    "def call(given):\n",
    "    y0=0\n",
    "    yes=0\n",
    "    vid1 = \"Demo/Geo/demo ({}).mp4\".format(given)\n",
    "    frames = 60\n",
    "    # cv2.VideoCapture(0) - If you want webcam\n",
    "    cap = cv2.VideoCapture(vid1)\n",
    "    i,j,ld = 0,0,0\n",
    "\n",
    "    while True:\n",
    "        r, f = cap.read() \n",
    "        if r: \n",
    "            cv2.imshow('Test Video', f)   \n",
    "            f = cv2.resize(f,(400,300))\n",
    "            if i%frames == 0:\n",
    "                try: \n",
    "                    j = j+1\n",
    "                    s = \"test/overall/ss{}.jpg\".format(j)\n",
    "                    cv2.imwrite(s,f)\n",
    "                    y0 = main1(s,j)\n",
    "                    if y0==1:\n",
    "                        yes=1\n",
    "                except:\n",
    "                    pass\n",
    "            i=i+1\n",
    "            if cv2.waitKey(1) & 0xFF == ord('q'): \n",
    "            # Press Q to quit\n",
    "                break\n",
    "        else:\n",
    "            break\n",
    "\n",
    "    cap.release()\n",
    "    cv2.destroyAllWindows()\n",
    "    return yes"
   ]
  },
  {
   "cell_type": "markdown",
   "metadata": {},
   "source": [
    "### Plotting"
   ]
  },
  {
   "cell_type": "code",
   "execution_count": 5,
   "metadata": {},
   "outputs": [],
   "source": [
    "def person(points1,p1,p2,fdict):\n",
    "    \n",
    "    origin = (40.684029, -73.977629)\n",
    "    destination = (40.675965, -73.905801)\n",
    "    coord = pd.read_csv(\"Dataset.csv\")\n",
    "    l1 = coord.drop(['Lane','Point'],axis=1).values.tolist()\n",
    "    lane1 = l1[0:5]\n",
    "    lane2 = l1[5:10]\n",
    "    lane3 = l1[10:15]\n",
    "    lane4 = l1[15:20]\n",
    "    lane5 = l1[20:25]\n",
    "    l2 = []\n",
    "    l2.append(lane1)\n",
    "    l2.append(lane2)\n",
    "    l2.append(lane3)\n",
    "    l2.append(lane4)\n",
    "    l2.append(lane5)\n",
    "   \n",
    "    initial1 = p1\n",
    "    initial2 = p2\n",
    "    if (p1,p2) in [(1,5),(5,5),(5,1),(1,1)]:\n",
    "        l = [1,4,6]\n",
    "        random.shuffle(l)\n",
    "        for i in range(3):\n",
    "            c = call(l[i])\n",
    "            if c==1:\n",
    "                if i==0:\n",
    "                    if p1==1:\n",
    "                        p1+=1\n",
    "                    else:\n",
    "                        p1-=1\n",
    "                if i==1:\n",
    "                    if p1==1:\n",
    "                        p1+=1\n",
    "                        if p2==1:\n",
    "                            p2-=1\n",
    "                        else:\n",
    "                            p2+=1\n",
    "                    else:\n",
    "                        p1-=1\n",
    "                        if p2==1:\n",
    "                            p2-=1\n",
    "                        else:\n",
    "                            p2+=1\n",
    "                if i==2:\n",
    "                    if p2==5:\n",
    "                        p2-=1\n",
    "                    else:\n",
    "                        p2+=1\n",
    "                break\n",
    "    else:\n",
    "        l = [1,2,3,4,5,6,7,8]\n",
    "        random.shuffle(l)\n",
    "        for i in range(8):\n",
    "            c = call(l[i])\n",
    "            if c==1:\n",
    "                if i==0:\n",
    "                    p2=p2+1\n",
    "                if i==1:\n",
    "                    p1+=1\n",
    "                    p2+=1\n",
    "                if i==2:\n",
    "                    p1+=1\n",
    "                if i==3:\n",
    "                    p1+=1\n",
    "                    p2-=1\n",
    "                if i==4:\n",
    "                    p2-=1\n",
    "                if i==5:\n",
    "                    p1-=1\n",
    "                    p2-=1\n",
    "                if i==6:\n",
    "                    p1-=1\n",
    "                if i==7:\n",
    "                    p2+=1\n",
    "                    p1-=1\n",
    "                break\n",
    "    if (p1,p2) in points1:\n",
    "        return person(points1,initial1,initial2,fdict)\n",
    "    elif p1 not in range(1,6) or p2 not in range(1,6):\n",
    "        return person(points1, initial1, initial2,fdict)\n",
    "    else:\n",
    "        points1.append((p1,p2))\n",
    "        print(points1)\n",
    "        message = \"Suspect found at \"+str(p1)+\",\"+str(p2)\n",
    "        idx = len(fdict)+1\n",
    "        fdict[idx] = str(l2[p1][p2][0])+ \",\" + str(l2[p1][p2][1])\n",
    "        \n",
    "        ref.set(fdict)\n",
    "        # service.send_message(\"9500356597\", message) \n",
    "        print(message)\n",
    "        return points1"
   ]
  },
  {
   "cell_type": "markdown",
   "metadata": {},
   "source": [
    "### Display"
   ]
  },
  {
   "cell_type": "code",
   "execution_count": 6,
   "metadata": {},
   "outputs": [
    {
     "name": "stdout",
     "output_type": "stream",
     "text": [
      "[(1, 5), (1, 4)]\n",
      "Suspect found at 1,4\n"
     ]
    },
    {
     "data": {
      "image/png": "[encoded data removed]",
      "text/plain": [
       "<Figure size 432x288 with 1 Axes>"
      ]
     },
     "metadata": {
      "needs_background": "light"
     },
     "output_type": "display_data"
    },
    {
     "name": "stdout",
     "output_type": "stream",
     "text": [
      "[(1, 5), (1, 4), (2, 4)]\n",
      "Suspect found at 2,4\n"
     ]
    },
    {
     "data": {
      "image/png": "[encoded data removed]",
      "text/plain": [
       "<Figure size 432x288 with 1 Axes>"
      ]
     },
     "metadata": {
      "needs_background": "light"
     },
     "output_type": "display_data"
    },
    {
     "name": "stdout",
     "output_type": "stream",
     "text": [
      "[(1, 5), (1, 4), (2, 4), (1, 3)]\n",
      "Suspect found at 1,3\n"
     ]
    },
    {
     "data": {
      "image/png": "[encoded data removed]",
      "text/plain": [
       "<Figure size 432x288 with 1 Axes>"
      ]
     },
     "metadata": {
      "needs_background": "light"
     },
     "output_type": "display_data"
    },
    {
     "name": "stdout",
     "output_type": "stream",
     "text": [
      "[(1, 5), (1, 4), (2, 4), (1, 3), (1, 2)]\n",
      "Suspect found at 1,2\n"
     ]
    },
    {
     "data": {
      "image/png": "[encoded data removed]",
      "text/plain": [
       "<Figure size 432x288 with 1 Axes>"
      ]
     },
     "metadata": {
      "needs_background": "light"
     },
     "output_type": "display_data"
    },
    {
     "name": "stdout",
     "output_type": "stream",
     "text": [
      "[(1, 5), (1, 4), (2, 4), (1, 3), (1, 2), (2, 2)]\n",
      "Suspect found at 2,2\n"
     ]
    },
    {
     "data": {
      "image/png": "[encoded data removed]",
      "text/plain": [
       "<Figure size 432x288 with 1 Axes>"
      ]
     },
     "metadata": {
      "needs_background": "light"
     },
     "output_type": "display_data"
    }
   ],
   "source": [
    "points = []\n",
    "points1 = [(1,5)]\n",
    "\n",
    "fdict = {}\n",
    "# for i in range(6):\n",
    "#     fdict[i] = None\n",
    "person.len = 0;\n",
    "for i in range(5):\n",
    "    points1 = person(points1,points1[-1][0],points1[-1][1],fdict)\n",
    "    for k in range(1,6):\n",
    "            for l in range(1,6):\n",
    "                if (k,l) not in points1:\n",
    "                    points.append((k,l))\n",
    "    x = list(map(lambda x: x[0], points))\n",
    "    y = list(map(lambda x: x[1], points))\n",
    "\n",
    "    x1 = list(map(lambda x1: x1[0], points1))\n",
    "    y1 = list(map(lambda x1: x1[1], points1))\n",
    "\n",
    "    plt.xticks(npy.arange(1, 6, 1))\n",
    "    plt.yticks(npy.arange(1, 6, 1))\n",
    "    plt.scatter(x,y,c=\"r\")\n",
    "    plt.scatter(x1,y1,c=\"g\")\n",
    "    plt.grid(True)\n",
    "    plt.plot(x1,y1,'g--');\n",
    "    plt.show()"
   ]
  },
  {
   "cell_type": "code",
   "execution_count": null,
   "metadata": {},
   "outputs": [],
   "source": []
  },
  {
   "cell_type": "code",
   "execution_count": null,
   "metadata": {},
   "outputs": [],
   "source": []
  },
  {
   "cell_type": "code",
   "execution_count": null,
   "metadata": {},
   "outputs": [],
   "source": []
  }
 ],
 "metadata": {
  "kernelspec": {
   "display_name": "Python 3",
   "language": "python",
   "name": "python3"
  },
  "language_info": {
   "codemirror_mode": {
    "name": "ipython",
    "version": 3
   },
   "file_extension": ".py",
   "mimetype": "text/x-python",
   "name": "python",
   "nbconvert_exporter": "python",
   "pygments_lexer": "ipython3",
   "version": "3.6.6"
  },
  "metadata": {
   "interpreter": {
    "hash": "5a2c2b1e8e21bd441da1d17902ec1befce5a77884cfd8dc3337a42ec4181cc68"
   }
  }
 },
 "nbformat": 4,
 "nbformat_minor": 4
}
